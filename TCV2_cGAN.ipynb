{
  "nbformat": 4,
  "nbformat_minor": 0,
  "metadata": {
    "colab": {
      "name": "TCV2 - cGAN.ipynb",
      "version": "0.3.2",
      "provenance": [],
      "collapsed_sections": [],
      "toc_visible": true,
      "include_colab_link": true
    },
    "kernelspec": {
      "name": "python3",
      "display_name": "Python 3"
    },
    "accelerator": "GPU"
  },
  "cells": [
    {
      "cell_type": "markdown",
      "metadata": {
        "id": "view-in-github",
        "colab_type": "text"
      },
      "source": [
        "<a href=\"https://colab.research.google.com/github/RVS97/MNIST-GANs/blob/master/TCV2_cGAN.ipynb\" target=\"_parent\"><img src=\"https://colab.research.google.com/assets/colab-badge.svg\" alt=\"Open In Colab\"/></a>"
      ]
    },
    {
      "cell_type": "markdown",
      "metadata": {
        "id": "m7DGZy7LKQlt",
        "colab_type": "text"
      },
      "source": [
        "# Libraries\n",
        "Import required libraries"
      ]
    },
    {
      "cell_type": "code",
      "metadata": {
        "id": "E86SZ7erKOPJ",
        "colab_type": "code",
        "colab": {}
      },
      "source": [
        "import sys\n",
        "import json\n",
        "import os\n",
        "import glob\n",
        "import tensorflow.python.keras\n",
        "from tensorflow.python import keras\n",
        "from tensorflow.python.keras import backend as K\n",
        "from tensorflow.python.keras.utils import to_categorical\n",
        "from tensorflow.python.keras.optimizers import Adam\n",
        "from tensorflow.python.keras.models import Sequential, Model, load_model\n",
        "from tensorflow.python.keras.layers import Dense, Dropout, Activation, Flatten, Input, Lambda, Reshape, Add\n",
        "from tensorflow.python.keras.layers import Conv2D, MaxPooling2D, BatchNormalization, Conv2DTranspose \n",
        "from tensorflow.python.keras.layers import Input, UpSampling2D, concatenate  \n",
        "from tensorflow.python.keras.layers import LeakyReLU\n",
        "from tensorflow.python.keras.layers.merge import concatenate\n",
        "import time\n",
        "import tensorflow as tf\n",
        "import numpy as np\n",
        "import cv2\n",
        "import random\n",
        "from sklearn.utils import shuffle\n",
        "from matplotlib import pyplot\n",
        "import datetime\n",
        "import pickle"
      ],
      "execution_count": 0,
      "outputs": []
    },
    {
      "cell_type": "markdown",
      "metadata": {
        "id": "4ia_JrjEIA3I",
        "colab_type": "text"
      },
      "source": [
        "# Dataset\n",
        "Import MNIST dataset from keras and map image values to 0/1"
      ]
    },
    {
      "cell_type": "code",
      "metadata": {
        "id": "DkUJdBbEGzwC",
        "colab_type": "code",
        "outputId": "2c920ba2-d3d5-420e-9da2-a8241eff0a17",
        "colab": {
          "base_uri": "https://localhost:8080/",
          "height": 153
        }
      },
      "source": [
        "# Import dataset\n",
        "from keras.datasets import mnist\n",
        "\n",
        "class MNISTdata:\n",
        "  def __init__(self, batchSize=100, shuffle=True):\n",
        "\n",
        "    # Load into variables\n",
        "    (self.x_train, self.y_train),(self.x_test, self.y_test) = mnist.load_data()\n",
        "    \n",
        "    self.x_train = np.expand_dims(self.x_train, -1)\n",
        "    self.x_test = np.expand_dims(self.x_test, -1)\n",
        "    \n",
        "    # One-hot encode labels\n",
        "    self.y_train = to_categorical(self.y_train, num_classes=10)\n",
        "    self.y_test = to_categorical(self.y_test, num_classes=10)\n",
        "    \n",
        "    # Map image values to the range -1/1\n",
        "    self.x_train = (self.x_train.astype(np.float32) - 127.5)/127.5*-1\n",
        "    self.x_test = (self.x_test.astype(np.float32) - 127.5)/127.5*-1#R\n",
        "    #self.x_train, self.x_test = self.x_train/255.0, self.x_test/255.0\n",
        "\n",
        "    self.imgWidth = len(self.x_train[0][0])\n",
        "    self.imgHeight = len(self.x_train[0])\n",
        "    self.nTrainSamples = len(self.x_train)\n",
        "    self.nTestSamples = len(self.x_test)\n",
        "    \n",
        "    print(\"MNIST loaded correctly\")\n",
        "    print(\" - {} by {} images (grayscale)\".format(self.imgWidth,self.imgHeight))\n",
        "    print(\" - {} training samples\".format(self.nTrainSamples))\n",
        "    print(\" - {} test samples\".format(self.nTestSamples))\n",
        "    \n",
        "    self.batchSize = batchSize\n",
        "    self.nBatches = int(self.nTrainSamples/self.batchSize)\n",
        "    \n",
        "    print(\"Batch size {} -> {} batches\".format(self.batchSize, self.nBatches))\n",
        "    \n",
        "    if shuffle: self.shuffleData()\n",
        "  \n",
        "  def shuffleData(self):\n",
        "    self.x_train, self.y_train = shuffle(self.x_train, self.y_train)\n",
        "    \n",
        "  def getBatch(self, batchId):\n",
        "    return self.x_train[batchId*self.batchSize:(batchId+1)*self.batchSize], self.y_train[batchId*self.batchSize:(batchId+1)*self.batchSize]\n",
        "    \n",
        "data = MNISTdata(batchSize=200)"
      ],
      "execution_count": 0,
      "outputs": [
        {
          "output_type": "stream",
          "text": [
            "Using TensorFlow backend.\n"
          ],
          "name": "stderr"
        },
        {
          "output_type": "stream",
          "text": [
            "Downloading data from https://s3.amazonaws.com/img-datasets/mnist.npz\n",
            "11493376/11490434 [==============================] - 2s 0us/step\n",
            "MNIST loaded correctly\n",
            " - 28 by 28 images (grayscale)\n",
            " - 60000 training samples\n",
            " - 10000 test samples\n",
            "Batch size 200 -> 300 batches\n"
          ],
          "name": "stdout"
        }
      ]
    },
    {
      "cell_type": "markdown",
      "metadata": {
        "id": "63m9Xzv7DP5L",
        "colab_type": "text"
      },
      "source": [
        "# Model Data"
      ]
    },
    {
      "cell_type": "code",
      "metadata": {
        "id": "0wBxP4cWDQSx",
        "colab_type": "code",
        "colab": {}
      },
      "source": [
        "class modelData:\n",
        "  def __init__(self, model, modelId='auto'):\n",
        "    # Save model structure\n",
        "    self.jsonStructure = model.to_json()\n",
        "    \n",
        "    # Set model id (defaut is timestamp of creation)\n",
        "    if modelId == 'auto':\n",
        "      self.modelId = self.setId()\n",
        "    else:\n",
        "      self.modelId = modelId\n",
        "    \n",
        "    # Set saved epoch counter to 0\n",
        "    self.currentEpoch = 0\n",
        "    self.epochsHist = {}\n",
        "    \n",
        "    self.params = {}\n",
        "    \n",
        "  def setId(self):\n",
        "    return datetime.datetime.now().strftime(\"%d_%Hh_%Mm\")\n",
        "  \n",
        "  def getId(self):\n",
        "    return self.modelId\n",
        "  \n",
        "  def addEpochCheckpoint(self, model, hist):\n",
        "    # Save weights\n",
        "    self.currentEpoch += 1\n",
        "    \n",
        "    # Save history\n",
        "    self.epochsHist[self.currentEpoch] = hist.history\n",
        "    \n",
        "    # Save model\n",
        "    saveName = self.modelId + \"_\" + model.name + \"_\" + str(self.currentEpoch) + \".h5\"\n",
        "    model.save(saveName)\n",
        "    return saveName\n",
        "  \n",
        "  def saveParams(self, **params):\n",
        "    self.params.update(params)"
      ],
      "execution_count": 0,
      "outputs": []
    },
    {
      "cell_type": "markdown",
      "metadata": {
        "id": "Maww0KaHDcjJ",
        "colab_type": "text"
      },
      "source": [
        "# Google Drive Mount\n"
      ]
    },
    {
      "cell_type": "code",
      "metadata": {
        "id": "oGX5kdG8Dc7o",
        "colab_type": "code",
        "outputId": "ce276d1d-06ec-41ad-f3a9-a5087e822d29",
        "colab": {
          "base_uri": "https://localhost:8080/",
          "height": 122
        }
      },
      "source": [
        "from google.colab import drive\n",
        "drive.mount('/content/gdrive')\n",
        "rootDir = \"/content/rootDir\"\n",
        "\n",
        "def saveFile(filePath, rootDir):\n",
        "  !cp $filePath $rootDir\n",
        "  \n",
        "def getFile(fileName, rootDir, localDir = \"./\"):\n",
        "  path = rootDir + \"/\" + fileName\n",
        "  !cp $path $localDir"
      ],
      "execution_count": 0,
      "outputs": [
        {
          "output_type": "stream",
          "text": [
            "Go to this URL in a browser: https://accounts.google.com/o/oauth2/auth?client_id=947318989803-6bn6qk8qdgf4n4g3pfee6491hc0brc4i.apps.googleusercontent.com&redirect_uri=urn%3Aietf%3Awg%3Aoauth%3A2.0%3Aoob&scope=email%20https%3A%2F%2Fwww.googleapis.com%2Fauth%2Fdocs.test%20https%3A%2F%2Fwww.googleapis.com%2Fauth%2Fdrive%20https%3A%2F%2Fwww.googleapis.com%2Fauth%2Fdrive.photos.readonly%20https%3A%2F%2Fwww.googleapis.com%2Fauth%2Fpeopleapi.readonly&response_type=code\n",
            "\n",
            "Enter your authorization code:\n",
            "··········\n",
            "Mounted at /content/gdrive\n"
          ],
          "name": "stdout"
        }
      ]
    },
    {
      "cell_type": "markdown",
      "metadata": {
        "id": "q4mPjDCdbz3r",
        "colab_type": "text"
      },
      "source": [
        "# Generator and Discriminator\n",
        "Define generator and discriminator network"
      ]
    },
    {
      "cell_type": "code",
      "metadata": {
        "id": "j6re2OLtkuv8",
        "colab_type": "code",
        "colab": {}
      },
      "source": [
        "def getDiscriminator(imageInputShape=(28,28,1), labelInputShape=(10,)):\n",
        "  # Model for image input\n",
        "  modelImageIn = Input(shape=imageInputShape)\n",
        "  x = Conv2D(64, (3, 3), strides=(2, 2), padding='same', kernel_initializer='glorot_uniform')(modelImageIn)\n",
        "  x = LeakyReLU(alpha=0.2)(x)\n",
        "  x = BatchNormalization(axis=-1)(x)\n",
        "  modelImage = Model(modelImageIn, x)\n",
        "  \n",
        "  # Model for label input\n",
        "  modelLabelIn = Input(shape=labelInputShape)\n",
        "  y = Dense(14*14*32, activation='relu', name='InputDenseb', kernel_initializer='glorot_uniform')(modelLabelIn)\n",
        "  y = BatchNormalization(axis=-1)(y)\n",
        "  y = Reshape((14, 14, 32), name='InputReshapeb')(y)\n",
        "  \n",
        "#   y = Conv2D(64, (3, 3), padding='same', activation=LeakyReLU(alpha=0.2), kernel_initializer='glorot_uniform')(y)\n",
        "#   y = BatchNormalization(axis=-1)(y)\n",
        "  modelLabel = Model(modelLabelIn, y)\n",
        "  \n",
        "  # Merged\n",
        "  concat = concatenate([x, y])\n",
        "  out = Conv2D(128, (3, 3), strides=(2, 2), padding='same', kernel_initializer='glorot_uniform')(concat)\n",
        "  out = LeakyReLU(alpha=0.2)(out)\n",
        "  out = BatchNormalization(axis=-1)(out)\n",
        "  \n",
        "  out = Conv2D(256, (3, 3), strides=(2, 2), padding='same', kernel_initializer='glorot_uniform')(out)\n",
        "  out = LeakyReLU(alpha=0.2)(out)\n",
        "  out = BatchNormalization(axis=-1)(out)\n",
        "  \n",
        "  out = Flatten()(out)\n",
        "  out = Dense(1, activation='sigmoid')(out)\n",
        "  \n",
        "  mergedModel = Model([modelImageIn, modelLabelIn], out, name=\"Discriminator\")\n",
        "  \n",
        "  return mergedModel\n",
        "\n",
        "\n",
        "\n",
        "def getDiscriminator2(imageInputShape=(28,28,1), labelInputShape=(10,)):\n",
        "  # Model for image input\n",
        "  modelImageIn = Input(shape=imageInputShape)\n",
        "  x = Conv2D(64, (3, 3), strides=(2, 2), padding='same', kernel_initializer='glorot_uniform')(modelImageIn)\n",
        "  x = LeakyReLU(alpha=0.2)(x)\n",
        "  x = BatchNormalization(axis=-1)(x)\n",
        "  modelImage = Model(modelImageIn, x)\n",
        "  \n",
        "  # Model for label input\n",
        "  modelLabelIn = Input(shape=labelInputShape)\n",
        "  y = Dense(14*14*32, activation='relu', name='InputDenseb', kernel_initializer='glorot_uniform')(modelLabelIn)\n",
        "  y = BatchNormalization(axis=-1)(y)\n",
        "  y = Reshape((14, 14, 32), name='InputReshapeb')(y)\n",
        "  \n",
        "#   y = Conv2D(64, (3, 3), padding='same', activation=LeakyReLU(alpha=0.2), kernel_initializer='glorot_uniform')(y)\n",
        "#   y = BatchNormalization(axis=-1)(y)\n",
        "  modelLabel = Model(modelLabelIn, y)\n",
        "  \n",
        "  # Merged\n",
        "  concat = concatenate([x, y])\n",
        "  out = Conv2D(128, (3, 3), strides=(2, 2), padding='same', kernel_initializer='glorot_uniform')(concat)\n",
        "  out = LeakyReLU(alpha=0.2)(out)\n",
        "  out = BatchNormalization(axis=-1)(out)\n",
        "  \n",
        "  out = Flatten()(out)\n",
        "  out = Dense(1, activation='sigmoid')(out)\n",
        "  \n",
        "  mergedModel = Model([modelImageIn, modelLabelIn], out, name=\"Discriminator\")\n",
        "  \n",
        "  return mergedModel"
      ],
      "execution_count": 0,
      "outputs": []
    },
    {
      "cell_type": "code",
      "metadata": {
        "id": "Y3j6gTM7nm-X",
        "colab_type": "code",
        "colab": {}
      },
      "source": [
        ""
      ],
      "execution_count": 0,
      "outputs": []
    },
    {
      "cell_type": "code",
      "metadata": {
        "id": "Pn7kmucwar3H",
        "colab_type": "code",
        "colab": {}
      },
      "source": [
        "def getGenerator(noiseInputShape=(100,), labelInputShape=(10,)):\n",
        "  # Model for noise input\n",
        "  modelNoiseIn = Input(shape=noiseInputShape)\n",
        "  x = Dense(7*7*256, activation='relu', name='InputDense', kernel_initializer='glorot_uniform')(modelNoiseIn)\n",
        "  x = BatchNormalization(axis=-1)(x)\n",
        "  x = Reshape((7, 7, 256), name='InputReshape')(x)\n",
        "  \n",
        "#   x = Conv2DTranspose(128, (3, 3), strides=(2, 2), padding='same', activation='relu', name='tConv1', kernel_initializer='glorot_uniform')(x)\n",
        "#   x = BatchNormalization(axis=-1)(x)\n",
        "  modelNoise = Model(modelNoiseIn, x)\n",
        "  \n",
        "  # Model for label input\n",
        "  modelLabelIn = Input(shape=labelInputShape)\n",
        "  y = Dense(7*7*256, activation='relu', name='InputDenseb', kernel_initializer='glorot_uniform')(modelLabelIn)\n",
        "  y = BatchNormalization(axis=-1)(y)\n",
        "  y = Reshape((7, 7, 256), name='InputReshapeb')(y)\n",
        "  \n",
        "#   y = Conv2DTranspose(128, (3, 3), strides=(2, 2), padding='same', activation='relu', name='tConv1b', kernel_initializer='glorot_uniform')(y)\n",
        "#   y = BatchNormalization(axis=-1)(y)\n",
        "  modelLabel = Model(modelLabelIn, y)\n",
        "  \n",
        "  # Concatenation layer\n",
        "  concat = concatenate([x, y])\n",
        "  \n",
        "  out = Conv2DTranspose(128, (3, 3), strides=(2, 2), padding='same', activation='relu', name='tConv1', kernel_initializer='glorot_uniform')(concat)\n",
        "  out = BatchNormalization(axis=-1)(out)\n",
        "  \n",
        "  out = Conv2DTranspose(64, (3, 3), strides=(2, 2), padding='same', activation='relu', name='tConv2b', kernel_initializer='glorot_uniform')(out)\n",
        "  out = BatchNormalization(axis=-1)(out)\n",
        "  \n",
        "  out = Conv2D(1, (3, 3), padding='same', activation='tanh', name='outConvb', kernel_initializer='glorot_uniform')(out)\n",
        "  \n",
        "  mergedModel = Model([modelNoiseIn, modelLabelIn], out, name=\"Generator\")\n",
        "  \n",
        "  return mergedModel\n",
        "\n",
        "def getGenerator2(noiseInputShape=(100,), labelInputShape=(10,)):\n",
        "  # Model for noise input\n",
        "  modelNoiseIn = Input(shape=noiseInputShape)\n",
        "  x = Dense(7*7*128, activation='relu', name='InputDense', kernel_initializer='glorot_uniform')(modelNoiseIn)\n",
        "  x = BatchNormalization(axis=-1)(x)\n",
        "  x = Reshape((7, 7, 128), name='InputReshape')(x)\n",
        "  \n",
        "#   x = Conv2DTranspose(128, (3, 3), strides=(2, 2), padding='same', activation='relu', name='tConv1', kernel_initializer='glorot_uniform')(x)\n",
        "#   x = BatchNormalization(axis=-1)(x)\n",
        "  modelNoise = Model(modelNoiseIn, x)\n",
        "  \n",
        "  # Model for label input\n",
        "  modelLabelIn = Input(shape=labelInputShape)\n",
        "  y = Dense(7*7*128, activation='relu', name='InputDenseb', kernel_initializer='glorot_uniform')(modelLabelIn)\n",
        "  y = BatchNormalization(axis=-1)(y)\n",
        "  y = Reshape((7, 7, 128), name='InputReshapeb')(y)\n",
        "  \n",
        "#   y = Conv2DTranspose(128, (3, 3), strides=(2, 2), padding='same', activation='relu', name='tConv1b', kernel_initializer='glorot_uniform')(y)\n",
        "#   y = BatchNormalization(axis=-1)(y)\n",
        "  modelLabel = Model(modelLabelIn, y)\n",
        "  \n",
        "  # Concatenation layer\n",
        "  concat = concatenate([x, y])\n",
        "  \n",
        "  out = Conv2DTranspose(64, (3, 3), strides=(2, 2), padding='same', activation='relu', name='tConv1', kernel_initializer='glorot_uniform')(concat)\n",
        "  out = BatchNormalization(axis=-1)(out)\n",
        "  \n",
        "  out = Conv2D(1, (3, 3), padding='same', activation='tanh', name='outConvb', kernel_initializer='glorot_uniform')(out)\n",
        "  \n",
        "  mergedModel = Model([modelNoiseIn, modelLabelIn], out, name=\"Generator\")\n",
        "  \n",
        "  return mergedModel"
      ],
      "execution_count": 0,
      "outputs": []
    },
    {
      "cell_type": "code",
      "metadata": {
        "id": "CD8pr4iRprO2",
        "colab_type": "code",
        "colab": {}
      },
      "source": [
        "def getNoise(size):\n",
        "    return np.random.normal(size=size), to_categorical(np.random.randint(0,10,(1,size[0])), num_classes=10)[0]"
      ],
      "execution_count": 0,
      "outputs": []
    },
    {
      "cell_type": "code",
      "metadata": {
        "id": "pToJCeBPpscL",
        "colab_type": "code",
        "colab": {}
      },
      "source": [
        "def trainDiscriminator(model, data, labels):\n",
        "  # Reset optmizer state?\n",
        "  \n",
        "  # Return loss\n",
        "  return model.fit(x=data, y=labels, verbose=0)"
      ],
      "execution_count": 0,
      "outputs": []
    },
    {
      "cell_type": "code",
      "metadata": {
        "id": "htz25p_sd5mE",
        "colab_type": "code",
        "colab": {}
      },
      "source": [
        "def trainGenerator(model, fakeData, labels):\n",
        "  # Reset optimizer state?\n",
        "  \n",
        "  # Classify data with discriminator model\n",
        "  loss = model.fit(x=fakeData, y=labels, verbose=0)\n",
        "  \n",
        "  return loss\n",
        "  "
      ],
      "execution_count": 0,
      "outputs": []
    },
    {
      "cell_type": "markdown",
      "metadata": {
        "id": "AQlrALA8pIvs",
        "colab_type": "text"
      },
      "source": [
        "# Training"
      ]
    },
    {
      "cell_type": "markdown",
      "metadata": {
        "id": "2iSfTvOAkn-0",
        "colab_type": "text"
      },
      "source": [
        ""
      ]
    },
    {
      "cell_type": "code",
      "metadata": {
        "id": "wrmzosoECImK",
        "colab_type": "code",
        "colab": {}
      },
      "source": [
        "class paramSearch:\n",
        "  def  __init__(self, K, optTypes, learnRate, beta1):\n",
        "    self.K = K\n",
        "    self.optTypes = optTypes\n",
        "    self.learnRate = learnRate\n",
        "    self.beta1 = beta1\n",
        "    \n",
        "  def getParams(self):\n",
        "    for k in self.K:\n",
        "      for opt in self.optTypes:\n",
        "        if opt == 'sgd':\n",
        "          for lr in self.learnRate:\n",
        "            yield k, opt, lr\n",
        "        else:\n",
        "          for b1 in self.beta1:\n",
        "            yield k, opt, b1"
      ],
      "execution_count": 0,
      "outputs": []
    },
    {
      "cell_type": "code",
      "metadata": {
        "id": "PEeiObqCuMYi",
        "colab_type": "code",
        "colab": {}
      },
      "source": [
        "noiseVecLength = 100\n",
        "\n",
        "# pS = paramSearch(K=[1, 2, 3], optTypes=['sgd', 'adam'], learnRate=[0.0001, 0.00001], beta1=[0.5, 0.9])\n",
        "pS = paramSearch(K=[1, 2, 3], optTypes=['adam'], learnRate=[0.1], beta1=[0.5, 0.9])\n",
        "pS = paramSearch(K=[1], optTypes=['adam'], learnRate=[0.1], beta1=[0.5])\n",
        "for k, opt, param in pS.getParams():\n",
        "  epochs = 3\n",
        "  \n",
        "  # Redefine models to clear\n",
        "  disc = getDiscriminator()\n",
        "  discData = modelData(disc)\n",
        "  \n",
        "  # Get generator\n",
        "  gen = getGenerator()\n",
        "  \n",
        "  # Get complete GAN\n",
        "  noiseInput = Input(shape=(100,))\n",
        "  labelInput = Input(shape=(10,))\n",
        "\n",
        "  genGAN = gen([noiseInput, labelInput])\n",
        "  out = disc([genGAN, labelInput])\n",
        "  gan = Model([noiseInput, labelInput], out, name=\"gan\")\n",
        "  ganData = modelData(gan, modelId=discData.getId())\n",
        "  \n",
        "  # Save K\n",
        "  K = k\n",
        "  discData.saveParams(K=K)\n",
        "  \n",
        "  # Specify and save optimiser\n",
        "  optimiser = Adam(lr=0.0002, beta_1=param, beta_2=0.999, epsilon=None, decay=0.0, amsgrad=False)\n",
        "  discData.saveParams(optType='adam', opt=optimiser.get_config())\n",
        "\n",
        "  # Compile models\n",
        "  disc.compile(optimizer=optimiser, loss='binary_crossentropy')\n",
        "  discData.saveParams(loss=disc.loss)\n",
        "  \n",
        "  gan.layers[-1].trainable=False # Lock discriminator\n",
        "  gan.compile(optimizer=optimiser, loss='binary_crossentropy')\n",
        "  ganData.saveParams(loss=gan.loss)\n",
        "  \n",
        "  # Create folder where to save model\n",
        "  subDir = rootDir + \"/\" + discData.getId()\n",
        "  !mkdir $subDir\n",
        "  \n",
        "  # Train\n",
        "  for e in range(epochs):\n",
        "    print(str(e))\n",
        "    \n",
        "    # Shuffle batches\n",
        "    data.shuffleData()\n",
        "    \n",
        "    # Iterations\n",
        "    for iter in range(data.nBatches):\n",
        "      for k in range(K):\n",
        "        # Get real data\n",
        "        realImages, realLabels = data.getBatch(iter)\n",
        "\n",
        "        # Get fake data\n",
        "        noiseInput, noiseLabels = getNoise((data.batchSize, noiseVecLength))\n",
        "#         print(noiseInput.shape)\n",
        "#         print(noiseLabels.shape)\n",
        "#         print(data.batchSize)\n",
        "        fakeImages = gen.predict([noiseInput, noiseLabels], batch_size=data.batchSize)\n",
        "        fakeLabels = np.zeros((data.batchSize,))\n",
        "\n",
        "#         histDisc = trainDiscriminator(disc, [realImages, realLabels], np.ones((data.batchSize,)))\n",
        "#         histDisc2 = trainDiscriminator(disc, [fakeImages, noiseLabels], fakeLabels)\n",
        "        # Train discriminator\n",
        "        allImages = np.concatenate((realImages, fakeImages))\n",
        "        classLabels = np.concatenate((realLabels, noiseLabels))                        # 0 to 9 to specify class\n",
        "        discriminatorLabels = np.concatenate((np.ones((data.batchSize,)), fakeLabels)) # 0 or 1 to determine if fake or real\n",
        "        histDisc = trainDiscriminator(disc, [allImages, classLabels], discriminatorLabels)\n",
        "        \n",
        "      # Train generator\n",
        "      noiseInput, noiseLabels = getNoise((data.batchSize, noiseVecLength))\n",
        "      fakeLabels = np.ones((data.batchSize,))\n",
        "      histGan = trainGenerator(gan, [noiseInput, noiseLabels], fakeLabels)\n",
        "\n",
        "      if iter%200 == 0:\n",
        "        print(\"Discriminator: {}  Generator: {}\".format(histDisc.history['loss'], histGan.history['loss']))\n",
        "        \n",
        "    # Save discriminator\n",
        "    savedDiscName = discData.addEpochCheckpoint(disc, histDisc)\n",
        "    discDataName = discData.getId() + \"_\" + disc.name + \"_data.pkl\"\n",
        "    with open(discDataName, 'wb') as f:\n",
        "      pickle.dump(discData, f)\n",
        "\n",
        "    saveFile(savedDiscName, subDir)\n",
        "    saveFile(discDataName, subDir)\n",
        "\n",
        "    # Save gan\n",
        "    savedGanName = ganData.addEpochCheckpoint(gan, histGan)\n",
        "    ganDataName = ganData.getId() + \"_\" + gan.name + \"_data.pkl\"\n",
        "    with open(ganDataName, 'wb') as f:\n",
        "      pickle.dump(ganData, f)\n",
        "\n",
        "    saveFile(savedGanName, subDir)\n",
        "    saveFile(ganDataName, subDir)"
      ],
      "execution_count": 0,
      "outputs": []
    },
    {
      "cell_type": "code",
      "metadata": {
        "id": "PcbL-aviznaE",
        "colab_type": "code",
        "outputId": "f506c5a8-294f-45d2-a298-5b51c51410df",
        "colab": {
          "base_uri": "https://localhost:8080/",
          "height": 68
        }
      },
      "source": [
        "print(realImages.shape)\n",
        "print(fakeImages.shape)\n",
        "print(allImages.shape)"
      ],
      "execution_count": 0,
      "outputs": [
        {
          "output_type": "stream",
          "text": [
            "(200, 28, 28, 1)\n",
            "(200, 28, 28, 1)\n",
            "(400, 28, 28, 1)\n"
          ],
          "name": "stdout"
        }
      ]
    },
    {
      "cell_type": "code",
      "metadata": {
        "id": "AiLJgDwIr8Vp",
        "colab_type": "code",
        "outputId": "5a1df869-8f02-487c-ad1b-091904e29427",
        "colab": {
          "base_uri": "https://localhost:8080/",
          "height": 1401
        }
      },
      "source": [
        "disc = getDiscriminator()\n",
        "#adam = Adam(lr=0.0002, beta_1=0.5, beta_2=0.999, epsilon=None, decay=0.0, amsgrad=False) #R\n",
        "gen = getGenerator()\n",
        "gen.summary()\n",
        "#gen.compile(optimizer=adam, loss='binary_crossentropy') #R\n",
        "#disc.compile(optimizer=adam, loss='binary_crossentropy') #R\n",
        "\n",
        "noiseInput = Input(shape=(100,))\n",
        "labelInput = Input(shape=(10,))\n",
        "\n",
        "genGAN = gen([noiseInput, labelInput])\n",
        "out = disc([genGAN, labelInput])\n",
        "gan = Model([noiseInput, labelInput], out)\n",
        "gan.summary()\n",
        "# descGan = disc\n",
        "# gan = disc\n",
        "# gan = Model([(100,), (10,)])\n",
        "# gan.add(gen)\n",
        "# gan.add(disc)\n",
        "# gan.summary()\n",
        "\n",
        "epochs = 3\n",
        "K = 1\n",
        "noiseVecLength = 100\n",
        "\n",
        "adam = Adam(lr=0.0002, beta_1=0.5, beta_2=0.999, epsilon=None, decay=0.0, amsgrad=False)\n",
        "\n",
        "disc.compile(optimizer=adam, loss='binary_crossentropy')\n",
        "\n",
        "gan.layers[-1].trainable=False\n",
        "gan.compile(optimizer=adam, loss='binary_crossentropy')\n",
        "gan.layers[-1].trainable=True #R\n",
        "for e in range(epochs):\n",
        "  print(str(e))\n",
        "  data.shuffleData()\n",
        "  for iter in range(data.nBatches):\n",
        "    for k in range(K):\n",
        "      # Get real data\n",
        "      realImages, realLabels = data.getBatch(iter)\n",
        "      \n",
        "      #realLabels = y_train[batchIdxs]\n",
        "\n",
        "      noiseInput, noiseLabels = getNoise((data.batchSize, noiseVecLength))\n",
        "      \n",
        "      fakeImages = gen.predict([noiseInput, noiseLabels], batch_size=data.batchSize)\n",
        "      fakeLabels = np.zeros((data.batchSize,))\n",
        "      \n",
        "      histDisc1 = trainDiscriminator(disc, [realImages, realLabels], np.ones((data.batchSize,)))\n",
        "      histDisc2 = trainDiscriminator(disc, [fakeImages, noiseLabels], fakeLabels)\n",
        "      \n",
        "      pyplot.imshow(np.squeeze(fakeImages[0]))\n",
        "      \n",
        "    noiseInput, noiseLabels = getNoise((data.batchSize, noiseVecLength))\n",
        "    fakeLabels = np.ones((data.batchSize,))\n",
        "    \n",
        "    gan.layers[-1].trainable=False #R\n",
        "    histGen = trainGenerator(gan, [noiseInput, noiseLabels], fakeLabels)\n",
        "    gan.layers[-1].trainable=True #R\n",
        "    \n",
        "    if iter%200 == 0:\n",
        "      print(\"Discriminator: {}, {}  Generator: {}\".format(histDisc1.history['loss'], histDisc2.history['loss'], histGen.history['loss']))"
      ],
      "execution_count": 0,
      "outputs": [
        {
          "output_type": "stream",
          "text": [
            "__________________________________________________________________________________________________\n",
            "Layer (type)                    Output Shape         Param #     Connected to                     \n",
            "==================================================================================================\n",
            "input_21 (InputLayer)           (None, 100)          0                                            \n",
            "__________________________________________________________________________________________________\n",
            "input_22 (InputLayer)           (None, 10)           0                                            \n",
            "__________________________________________________________________________________________________\n",
            "InputDense (Dense)              (None, 12544)        1266944     input_21[0][0]                   \n",
            "__________________________________________________________________________________________________\n",
            "InputDenseb (Dense)             (None, 12544)        137984      input_22[0][0]                   \n",
            "__________________________________________________________________________________________________\n",
            "batch_normalization_v1_34 (Batc (None, 12544)        50176       InputDense[0][0]                 \n",
            "__________________________________________________________________________________________________\n",
            "batch_normalization_v1_35 (Batc (None, 12544)        50176       InputDenseb[0][0]                \n",
            "__________________________________________________________________________________________________\n",
            "InputReshape (Reshape)          (None, 7, 7, 256)    0           batch_normalization_v1_34[0][0]  \n",
            "__________________________________________________________________________________________________\n",
            "InputReshapeb (Reshape)         (None, 7, 7, 256)    0           batch_normalization_v1_35[0][0]  \n",
            "__________________________________________________________________________________________________\n",
            "concatenate_7 (Concatenate)     (None, 7, 7, 512)    0           InputReshape[0][0]               \n",
            "                                                                 InputReshapeb[0][0]              \n",
            "__________________________________________________________________________________________________\n",
            "tConv1 (Conv2DTranspose)        (None, 14, 14, 128)  589952      concatenate_7[0][0]              \n",
            "__________________________________________________________________________________________________\n",
            "batch_normalization_v1_36 (Batc (None, 14, 14, 128)  512         tConv1[0][0]                     \n",
            "__________________________________________________________________________________________________\n",
            "tConv2b (Conv2DTranspose)       (None, 28, 28, 64)   73792       batch_normalization_v1_36[0][0]  \n",
            "__________________________________________________________________________________________________\n",
            "batch_normalization_v1_37 (Batc (None, 28, 28, 64)   256         tConv2b[0][0]                    \n",
            "__________________________________________________________________________________________________\n",
            "outConvb (Conv2D)               (None, 28, 28, 1)    577         batch_normalization_v1_37[0][0]  \n",
            "==================================================================================================\n",
            "Total params: 2,170,369\n",
            "Trainable params: 2,119,809\n",
            "Non-trainable params: 50,560\n",
            "__________________________________________________________________________________________________\n",
            "__________________________________________________________________________________________________\n",
            "Layer (type)                    Output Shape         Param #     Connected to                     \n",
            "==================================================================================================\n",
            "input_23 (InputLayer)           (None, 100)          0                                            \n",
            "__________________________________________________________________________________________________\n",
            "input_24 (InputLayer)           (None, 10)           0                                            \n",
            "__________________________________________________________________________________________________\n",
            "Generator (Model)               (None, 28, 28, 1)    2170369     input_23[0][0]                   \n",
            "                                                                 input_24[0][0]                   \n",
            "__________________________________________________________________________________________________\n",
            "Discriminator (Model)           (None, 1)            506497      Generator[1][0]                  \n",
            "                                                                 input_24[0][0]                   \n",
            "==================================================================================================\n",
            "Total params: 2,676,866\n",
            "Trainable params: 2,612,866\n",
            "Non-trainable params: 64,000\n",
            "__________________________________________________________________________________________________\n",
            "0\n",
            "Discriminator: [0.1554187087994069], [0.28355317924171686]  Generator: [0.7366735851764679]\n",
            "Discriminator: [0.3848058784008026], [0.4390275728702545]  Generator: [3.1018050479888917]\n",
            "1\n",
            "Discriminator: [0.3121085584163666], [0.4256308755278587]  Generator: [3.5945830726623536]\n",
            "Discriminator: [0.21578695595264435], [0.24533755511045455]  Generator: [4.3742601013183595]\n",
            "2\n",
            "Discriminator: [0.44209526062011717], [0.47806019231677055]  Generator: [4.395427589416504]\n",
            "Discriminator: [0.5580360782146454], [0.4242898728698492]  Generator: [3.8265739822387697]\n"
          ],
          "name": "stdout"
        },
        {
          "output_type": "display_data",
          "data": {
            "image/png": "[encoded data removed]",
            "text/plain": [
              "<Figure size 576x396 with 1 Axes>"
            ]
          },
          "metadata": {
            "tags": []
          }
        }
      ]
    },
    {
      "cell_type": "code",
      "metadata": {
        "id": "vjbge4qFDNDN",
        "colab_type": "code",
        "outputId": "e168870a-7f50-47f2-ddaf-a7415af7f235",
        "colab": {
          "base_uri": "https://localhost:8080/",
          "height": 306
        }
      },
      "source": [
        "gan.summary()\n"
      ],
      "execution_count": 0,
      "outputs": [
        {
          "output_type": "stream",
          "text": [
            "__________________________________________________________________________________________________\n",
            "Layer (type)                    Output Shape         Param #     Connected to                     \n",
            "==================================================================================================\n",
            "input_103 (InputLayer)          (None, 100)          0                                            \n",
            "__________________________________________________________________________________________________\n",
            "input_104 (InputLayer)          (None, 10)           0                                            \n",
            "__________________________________________________________________________________________________\n",
            "model_117 (Model)               (None, 28, 28, 1)    2170369     input_103[0][0]                  \n",
            "                                                                 input_104[0][0]                  \n",
            "__________________________________________________________________________________________________\n",
            "Discriminator (Model)           (None, 1)            506497      model_117[1][0]                  \n",
            "                                                                 input_104[0][0]                  \n",
            "==================================================================================================\n",
            "Total params: 2,676,866\n",
            "Trainable params: 2,119,809\n",
            "Non-trainable params: 557,057\n",
            "__________________________________________________________________________________________________\n"
          ],
          "name": "stdout"
        }
      ]
    },
    {
      "cell_type": "code",
      "metadata": {
        "id": "btzazjaLv6Q0",
        "colab_type": "code",
        "colab": {}
      },
      "source": [
        "noiseLabels = to_categorical(np.ones(data.batchSize), num_classes=10)\n"
      ],
      "execution_count": 0,
      "outputs": []
    },
    {
      "cell_type": "code",
      "metadata": {
        "id": "hLAzS5xFIOL9",
        "colab_type": "code",
        "colab": {}
      },
      "source": [
        "tag = \"06_22h_18m\"\n",
        "getFile(tag + \"_gan_5.h5\", rootDir + \"/\" + tag)"
      ],
      "execution_count": 0,
      "outputs": []
    },
    {
      "cell_type": "code",
      "metadata": {
        "id": "TGaX0NXrIZfs",
        "colab_type": "code",
        "colab": {}
      },
      "source": [
        "gan.set_weights(keras.models.load_model(tag + \"_gan_5.h5\").get_weights())"
      ],
      "execution_count": 0,
      "outputs": []
    },
    {
      "cell_type": "code",
      "metadata": {
        "id": "TGVXHnP1dHhB",
        "colab_type": "code",
        "colab": {}
      },
      "source": [
        "noiseInput, noiseLabels = getNoise((data.batchSize, noiseVecLength))\n",
        "noiseLabels = to_categorical(np.ones(data.batchSize)*5, num_classes=10) # multiply times label\n",
        "fakeImages = gen.predict([noiseInput, noiseLabels], batch_size=data.batchSize)"
      ],
      "execution_count": 0,
      "outputs": []
    },
    {
      "cell_type": "code",
      "metadata": {
        "id": "DD1D-5iaDkny",
        "colab_type": "code",
        "outputId": "46f2bf27-b212-42c3-e61f-824701f343c9",
        "colab": {
          "base_uri": "https://localhost:8080/",
          "height": 381
        }
      },
      "source": [
        "# Check example generated digit for given (above) label\n",
        "id = 12\n",
        "print(noiseLabels[id])\n",
        "pyplot.imshow(np.squeeze(fakeImages[id]))"
      ],
      "execution_count": 0,
      "outputs": [
        {
          "output_type": "stream",
          "text": [
            "[0. 0. 0. 0. 0. 1. 0. 0. 0. 0.]\n"
          ],
          "name": "stdout"
        },
        {
          "output_type": "execute_result",
          "data": {
            "text/plain": [
              "<matplotlib.image.AxesImage at 0x7f4b832b71d0>"
            ]
          },
          "metadata": {
            "tags": []
          },
          "execution_count": 43
        },
        {
          "output_type": "display_data",
          "data": {
            "image/png": "[encoded data removed]",
            "text/plain": [
              "<Figure size 576x396 with 1 Axes>"
            ]
          },
          "metadata": {
            "tags": []
          }
        }
      ]
    }
  ]
}