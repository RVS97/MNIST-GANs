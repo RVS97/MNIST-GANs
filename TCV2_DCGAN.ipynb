{
  "nbformat": 4,
  "nbformat_minor": 0,
  "metadata": {
    "colab": {
      "name": "TCV2 - DCGAN.ipynb",
      "version": "0.3.2",
      "provenance": [],
      "collapsed_sections": [],
      "toc_visible": true,
      "include_colab_link": true
    },
    "kernelspec": {
      "name": "python3",
      "display_name": "Python 3"
    },
    "accelerator": "GPU"
  },
  "cells": [
    {
      "cell_type": "markdown",
      "metadata": {
        "id": "view-in-github",
        "colab_type": "text"
      },
      "source": [
        "<a href=\"https://colab.research.google.com/github/RVS97/MNIST-GANs/blob/master/TCV2_DCGAN.ipynb\" target=\"_parent\"><img src=\"https://colab.research.google.com/assets/colab-badge.svg\" alt=\"Open In Colab\"/></a>"
      ]
    },
    {
      "cell_type": "markdown",
      "metadata": {
        "id": "m7DGZy7LKQlt",
        "colab_type": "text"
      },
      "source": [
        "# Libraries\n",
        "Import required libraries"
      ]
    },
    {
      "cell_type": "code",
      "metadata": {
        "id": "E86SZ7erKOPJ",
        "colab_type": "code",
        "colab": {}
      },
      "source": [
        "import sys\n",
        "import json\n",
        "import os\n",
        "import glob\n",
        "from tensorflow.python import keras\n",
        "from tensorflow.python.keras import backend as K\n",
        "from tensorflow.python.keras.optimizers import Adam, SGD\n",
        "from tensorflow.python.keras.models import Sequential, Model, load_model\n",
        "from tensorflow.python.keras.layers import Dense, Dropout, Activation, Flatten, Input, Lambda, Reshape\n",
        "from tensorflow.python.keras.layers import Conv2D, MaxPooling2D, BatchNormalization, Conv2DTranspose \n",
        "from tensorflow.python.keras.layers import Input, UpSampling2D, concatenate  \n",
        "from tensorflow.python.keras.layers import LeakyReLU\n",
        "import time\n",
        "import tensorflow as tf\n",
        "import numpy as np\n",
        "import cv2\n",
        "import random\n",
        "from sklearn.utils import shuffle\n",
        "from matplotlib import pyplot\n",
        "from math import ceil\n",
        "from scipy.stats import describe\n",
        "from sklearn.model_selection import train_test_split\n",
        "import time\n",
        "import pickle\n",
        "import datetime"
      ],
      "execution_count": 0,
      "outputs": []
    },
    {
      "cell_type": "markdown",
      "metadata": {
        "id": "4ia_JrjEIA3I",
        "colab_type": "text"
      },
      "source": [
        "# Dataset\n",
        "Import MNIST dataset from keras and map image values to 0/1"
      ]
    },
    {
      "cell_type": "code",
      "metadata": {
        "id": "DkUJdBbEGzwC",
        "colab_type": "code",
        "outputId": "af049e2a-af81-49fb-8dbd-cc8aca40c91b",
        "colab": {
          "base_uri": "https://localhost:8080/",
          "height": 153
        }
      },
      "source": [
        "# Import dataset\n",
        "from keras.datasets import mnist\n",
        "\n",
        "class MNISTdata:\n",
        "  def __init__(self, batchSize=100, shuffle=True, vBatchNorm=False):\n",
        "    \n",
        "    # Load into variables\n",
        "    (self.x_train, self.y_train),(self.x_test, self.y_test) = mnist.load_data()\n",
        "\n",
        "    self.x_train = np.expand_dims(self.x_train, -1)\n",
        "    self.x_test = np.expand_dims(self.x_test, -1)\n",
        "    \n",
        "    # Map image values to the range -1/1\n",
        "    self.x_train = (self.x_train.astype(np.float32) - 127.5)/127.5*-1\n",
        "    self.x_test = (self.x_test.astype(np.float32) - 127.5)/127.5*-1\n",
        "\n",
        "    self.imgWidth = len(self.x_train[0][0])\n",
        "    self.imgHeight = len(self.x_train[0])\n",
        "    self.nTrainSamples = len(self.x_train)\n",
        "    self.nTestSamples = len(self.x_test)\n",
        "    \n",
        "    print(\"MNIST loaded correctly\")\n",
        "    print(\" - {} by {} images (grayscale)\".format(self.imgWidth,self.imgHeight))\n",
        "    print(\" - {} training samples\".format(self.nTrainSamples))\n",
        "    print(\" - {} test samples\".format(self.nTestSamples))\n",
        "    \n",
        "    self.batchSize = batchSize\n",
        "    self.nBatches = ceil(self.nTrainSamples/self.batchSize)\n",
        "    \n",
        "    print(\"Batch size {} -> {} batches\".format(self.batchSize, self.nBatches))\n",
        "    \n",
        "    if shuffle: self.shuffleData()\n",
        "      \n",
        "    # Batch normalisation\n",
        "    self.vBatchNorm = vBatchNorm\n",
        "    \n",
        "    if self.vBatchNorm:\n",
        "      # NOT WORKING!\n",
        "      stats = self.getVBatchStats()\n",
        "      self.vBNMean = stats.mean\n",
        "      self.vBNSTD = stats.variance\n",
        "      \n",
        "      self.x_train = self.x_train - self.vBNMean\n",
        "      self.x_train = np.divide(self.x_train, np.sqrt(self.vBNSTD))\n",
        "      \n",
        "      self.x_val = self.x_val - self.vBNMean\n",
        "      self.x_val = np.divide(self.x_val, np.sqrt(self.vBNSTD))\n",
        "      \n",
        "      self.x_test = self.x_test - self.vBNMean\n",
        "      self.x_test = np.divide(self.x_test, np.sqrt(self.vBNSTD))\n",
        "    \n",
        "  def shuffleData(self):\n",
        "    self.x_train, self.y_train = shuffle(self.x_train, self.y_train)\n",
        "    \n",
        "  def getVBatchStats(self):\n",
        "    return describe(self.x_train[0:self.batchSize])\n",
        "    \n",
        "  def getBatch(self, batchId):\n",
        "    if (batchId+1)*self.batchSize > self.nTrainSamples:\n",
        "      batch = self.x_train[batchId*self.batchSize:]\n",
        "    else:\n",
        "      batch = self.x_train[batchId*self.batchSize:(batchId+1)*self.batchSize]\n",
        "    return batch, np.ones((len(batch),))    \n",
        "    \n",
        "data = MNISTdata(batchSize = 200)"
      ],
      "execution_count": 0,
      "outputs": [
        {
          "output_type": "stream",
          "text": [
            "Using TensorFlow backend.\n"
          ],
          "name": "stderr"
        },
        {
          "output_type": "stream",
          "text": [
            "Downloading data from https://s3.amazonaws.com/img-datasets/mnist.npz\n",
            "11493376/11490434 [==============================] - 0s 0us/step\n",
            "MNIST loaded correctly\n",
            " - 28 by 28 images (grayscale)\n",
            " - 60000 training samples\n",
            " - 10000 test samples\n",
            "Batch size 200 -> 300 batches\n"
          ],
          "name": "stdout"
        }
      ]
    },
    {
      "cell_type": "code",
      "metadata": {
        "id": "h8UDo4534be1",
        "colab_type": "code",
        "outputId": "8f092fa7-98c5-4d85-d4a8-11b3ff6dc6d0",
        "colab": {
          "base_uri": "https://localhost:8080/",
          "height": 365
        }
      },
      "source": [
        "pyplot.imshow(data.x_train[0].reshape((28, 28)))"
      ],
      "execution_count": 0,
      "outputs": [
        {
          "output_type": "execute_result",
          "data": {
            "text/plain": [
              "<matplotlib.image.AxesImage at 0x7fb5764bbb38>"
            ]
          },
          "metadata": {
            "tags": []
          },
          "execution_count": 5
        },
        {
          "output_type": "display_data",
          "data": {
            "image/png": "[encoded data removed]",
            "text/plain": [
              "<Figure size 576x396 with 1 Axes>"
            ]
          },
          "metadata": {
            "tags": []
          }
        }
      ]
    },
    {
      "cell_type": "markdown",
      "metadata": {
        "id": "XjLnb87F1PyJ",
        "colab_type": "text"
      },
      "source": [
        "# Model Data"
      ]
    },
    {
      "cell_type": "code",
      "metadata": {
        "id": "UOlwC0SI1XDx",
        "colab_type": "code",
        "colab": {}
      },
      "source": [
        "class modelData:\n",
        "  def __init__(self, model, modelId='auto'):\n",
        "    # Save model structure\n",
        "    self.jsonStructure = model.to_json()\n",
        "    \n",
        "    # Set model id (defaut is timestamp of creation)\n",
        "    if modelId == 'auto':\n",
        "      self.modelId = self.setId()\n",
        "    else:\n",
        "      self.modelId = modelId\n",
        "    \n",
        "    # Set saved epoch counter to 0\n",
        "    self.currentEpoch = 0\n",
        "    self.epochsHist = {}\n",
        "    \n",
        "    self.params = {}\n",
        "    \n",
        "  def setId(self):\n",
        "    return datetime.datetime.now().strftime(\"%d_%Hh_%Mm\")\n",
        "  \n",
        "  def getId(self):\n",
        "    return self.modelId\n",
        "  \n",
        "  def addEpochCheckpoint(self, model, hist):\n",
        "    # Save weights\n",
        "    self.currentEpoch += 1\n",
        "    \n",
        "    # Save history\n",
        "    self.epochsHist[self.currentEpoch] = hist.history\n",
        "    \n",
        "    # Save model\n",
        "    saveName = self.modelId + \"_\" + model.name + \"_\" + str(self.currentEpoch) + \".h5\"\n",
        "    model.save(saveName)\n",
        "    return saveName\n",
        "  \n",
        "  def saveParams(self, **params):\n",
        "    self.params.update(params)\n",
        "    "
      ],
      "execution_count": 0,
      "outputs": []
    },
    {
      "cell_type": "markdown",
      "metadata": {
        "id": "yXjt7J_MOba8",
        "colab_type": "text"
      },
      "source": [
        "# Google Drive Mount"
      ]
    },
    {
      "cell_type": "code",
      "metadata": {
        "id": "s-kwi0R7Odrs",
        "colab_type": "code",
        "outputId": "bb75fda5-5a5d-46f5-d9e6-6293ed025c4f",
        "colab": {
          "base_uri": "https://localhost:8080/",
          "height": 34
        }
      },
      "source": [
        "from google.colab import drive\n",
        "drive.mount('/content/gdrive')\n",
        "rootDir = \"/content/rootDir\"\n",
        "\n",
        "def saveFile(filePath, rootDir):\n",
        "  !cp $filePath $rootDir\n",
        "  \n",
        "def getFile(fileName, rootDir, localDir = \"./\"):\n",
        "  path = rootDir + \"/\" + fileName\n",
        "  !cp $path $localDir"
      ],
      "execution_count": 0,
      "outputs": [
        {
          "output_type": "stream",
          "text": [
            "Drive already mounted at /content/gdrive; to attempt to forcibly remount, call drive.mount(\"/content/gdrive\", force_remount=True).\n"
          ],
          "name": "stdout"
        }
      ]
    },
    {
      "cell_type": "markdown",
      "metadata": {
        "id": "q4mPjDCdbz3r",
        "colab_type": "text"
      },
      "source": [
        "# Generator and Discriminator\n",
        "Define generator and discriminator network"
      ]
    },
    {
      "cell_type": "code",
      "metadata": {
        "id": "j6re2OLtkuv8",
        "colab_type": "code",
        "colab": {}
      },
      "source": [
        "def getDiscriminator(inputShape=(28,28,1)):\n",
        "  model = Sequential(name=\"Discriminator\")\n",
        "  model.add(Conv2D(32, (3, 3), strides=(2, 2), padding='same', input_shape=inputShape, kernel_initializer='glorot_uniform'))\n",
        "  model.add(LeakyReLU(alpha=0.2))\n",
        "  model.add(BatchNormalization(axis=-1))\n",
        "\n",
        "  model.add(Conv2D(64, (3, 3), strides=(2, 2), padding='same', kernel_initializer='glorot_uniform'))\n",
        "  model.add(LeakyReLU(alpha=0.2))\n",
        "  model.add(BatchNormalization(axis=-1))\n",
        "\n",
        "  model.add(Conv2D(128, (3, 3), strides=(2, 2), padding='same', kernel_initializer='glorot_uniform'))\n",
        "  model.add(LeakyReLU(alpha=0.2))\n",
        "  model.add(BatchNormalization(axis=-1))\n",
        "\n",
        "  model.add(Flatten())\n",
        "  model.add(Dense(1, activation='sigmoid'))\n",
        "  return model\n",
        "  \n",
        "def getDiscriminator2(inputShape=(28,28,1)):\n",
        "  model = Sequential(name=\"Discriminator\")\n",
        "  model.add(Conv2D(32, (3, 3), strides=(2, 2), padding='same', input_shape=inputShape, kernel_initializer='glorot_uniform'))\n",
        "  model.add(LeakyReLU(alpha=0.2))\n",
        "  model.add(BatchNormalization(axis=-1))\n",
        "  \n",
        "  model.add(Conv2D(64, (3, 3), padding='same', input_shape=inputShape, kernel_initializer='glorot_uniform'))\n",
        "  model.add(LeakyReLU(alpha=0.2))\n",
        "  model.add(BatchNormalization(axis=-1))\n",
        "\n",
        "  model.add(Conv2D(128, (3, 3), strides=(2, 2), padding='same', kernel_initializer='glorot_uniform'))\n",
        "  model.add(LeakyReLU(alpha=0.2))\n",
        "  model.add(BatchNormalization(axis=-1))\n",
        "\n",
        "  model.add(Conv2D(256, (3, 3), strides=(2, 2), padding='same', kernel_initializer='glorot_uniform'))\n",
        "  model.add(LeakyReLU(alpha=0.2))\n",
        "  model.add(BatchNormalization(axis=-1))\n",
        "\n",
        "  model.add(Flatten())\n",
        "  model.add(Dense(1, activation='sigmoid'))\n",
        "  return model"
      ],
      "execution_count": 0,
      "outputs": []
    },
    {
      "cell_type": "code",
      "metadata": {
        "id": "Pn7kmucwar3H",
        "colab_type": "code",
        "colab": {}
      },
      "source": [
        "def getGenerator(inputShape=(100,)):\n",
        "  model = Sequential(name=\"Generator\")\n",
        "  model.add(Dense(7*7*128, activation='relu', input_shape=inputShape, name='InputDense', kernel_initializer='glorot_uniform'))\n",
        "  model.add(BatchNormalization(axis=-1))\n",
        "  model.add(Reshape((7, 7, 128), name='InputReshape'))\n",
        "  \n",
        "  model.add(Conv2DTranspose(64, (3, 3), strides=(2, 2), padding='same', activation='relu', name='tConv1', kernel_initializer='glorot_uniform'))\n",
        "  model.add(BatchNormalization(axis=-1))\n",
        "  \n",
        "  model.add(Conv2DTranspose(32, (3, 3), strides=(2, 2), padding='same', activation='relu', name='tConv2', kernel_initializer='glorot_uniform'))\n",
        "  model.add(BatchNormalization(axis=-1))\n",
        "  \n",
        "  model.add(Conv2D(1, (3, 3), padding='same', activation='tanh', name='outConv', kernel_initializer='glorot_uniform'))\n",
        "  \n",
        "  return model\n",
        "\n",
        "def getGenerator2(inputShape=(100,)):\n",
        "  model = Sequential(name=\"Generator\")\n",
        "  model.add(Dense(7*7*128, activation='relu', input_shape=inputShape, name='InputDense', kernel_initializer='glorot_uniform'))\n",
        "  model.add(BatchNormalization(axis=-1))\n",
        "  model.add(Reshape((7, 7, 128), name='InputReshape'))\n",
        "  \n",
        "  model.add(Conv2DTranspose(64, (3, 3), strides=(2, 2), padding='same', activation='relu', name='tConv1', kernel_initializer='glorot_uniform'))\n",
        "  model.add(BatchNormalization(axis=-1))\n",
        "  \n",
        "  model.add(Conv2D(32, (3, 3), padding='same', activation='relu', name='tConv1', kernel_initializer='glorot_uniform'))\n",
        "  model.add(BatchNormalization(axis=-1))\n",
        "  \n",
        "  model.add(Conv2DTranspose(16, (3, 3), strides=(2, 2), padding='same', activation='relu', name='tConv2', kernel_initializer='glorot_uniform'))\n",
        "  model.add(BatchNormalization(axis=-1))\n",
        "  \n",
        "  model.add(Conv2D(1, (3, 3), padding='same', activation='tanh', name='outConv', kernel_initializer='glorot_uniform'))\n",
        "  \n",
        "  return model"
      ],
      "execution_count": 0,
      "outputs": []
    },
    {
      "cell_type": "code",
      "metadata": {
        "id": "CD8pr4iRprO2",
        "colab_type": "code",
        "colab": {}
      },
      "source": [
        "def getNoise(size):\n",
        "    return np.random.normal(size=size)"
      ],
      "execution_count": 0,
      "outputs": []
    },
    {
      "cell_type": "code",
      "metadata": {
        "id": "pToJCeBPpscL",
        "colab_type": "code",
        "colab": {}
      },
      "source": [
        "def trainDiscriminator(model, data, labels):\n",
        "  # Reset optmizer state?\n",
        "  \n",
        "  # Return loss\n",
        "  return model.fit(x=data, y=labels, verbose=0)"
      ],
      "execution_count": 0,
      "outputs": []
    },
    {
      "cell_type": "code",
      "metadata": {
        "id": "htz25p_sd5mE",
        "colab_type": "code",
        "colab": {}
      },
      "source": [
        "def trainGenerator(model, fakeData, labels):\n",
        "  # Reset optimizer state?\n",
        "  \n",
        "  # Classify data with discriminator model\n",
        "  loss = model.fit(x=fakeData, y=labels, verbose=0)\n",
        "  \n",
        "  return loss\n",
        "  "
      ],
      "execution_count": 0,
      "outputs": []
    },
    {
      "cell_type": "markdown",
      "metadata": {
        "id": "AQlrALA8pIvs",
        "colab_type": "text"
      },
      "source": [
        "# Training"
      ]
    },
    {
      "cell_type": "markdown",
      "metadata": {
        "id": "2iSfTvOAkn-0",
        "colab_type": "text"
      },
      "source": [
        ""
      ]
    },
    {
      "cell_type": "code",
      "metadata": {
        "id": "Kx4Vw50SW2Zl",
        "colab_type": "code",
        "colab": {}
      },
      "source": [
        "class paramSearch:\n",
        "  def  __init__(self, K, optTypes, learnRate, beta1):\n",
        "    self.K = K\n",
        "    self.optTypes = optTypes\n",
        "    self.learnRate = learnRate\n",
        "    self.beta1 = beta1\n",
        "    \n",
        "  def getParams(self):\n",
        "    for k in self.K:\n",
        "      for opt in self.optTypes:\n",
        "        if opt == 'sgd':\n",
        "          for lr in self.learnRate:\n",
        "            yield k, opt, lr\n",
        "        else:\n",
        "          for b1 in self.beta1:\n",
        "            yield k, opt, b1\n",
        "    "
      ],
      "execution_count": 0,
      "outputs": []
    },
    {
      "cell_type": "code",
      "metadata": {
        "id": "PEeiObqCuMYi",
        "colab_type": "code",
        "colab": {}
      },
      "source": [
        "noiseVecLength = 100\n",
        "\n",
        "# pS = paramSearch(K=[1, 2, 3], optTypes=['sgd', 'adam'], learnRate=[0.0001, 0.00001], beta1=[0.5, 0.9])\n",
        "pS = paramSearch(K=[1, 2, 3], optTypes=['sgd', 'adam'], learnRate=[0.0001, 0.00001], beta1=[0.5, 0.9])\n",
        "for k, opt, param in pS.getParams():\n",
        "  epochs = 15\n",
        "  \n",
        "  # Redefine models to clear\n",
        "  disc = getDiscriminator()\n",
        "  discData = modelData(disc)\n",
        "  \n",
        "  # Get generator\n",
        "  gen = getGenerator()\n",
        "\n",
        "  # Get complete GAN\n",
        "  gan = Sequential(name=\"gan\")\n",
        "  gan.add(gen)\n",
        "  gan.add(disc)\n",
        "  ganData = modelData(gan, modelId=discData.getId())\n",
        "  \n",
        "  # Save K\n",
        "  K = k\n",
        "  \n",
        "  # Chose optimiser\n",
        "  if opt == 'sgd':\n",
        "    optimiser = SGD(lr=param)\n",
        "    discData.saveParams(optType='sgd', opt=optimiser.get_config())\n",
        "  else:\n",
        "    optimiser = Adam(lr=0.0002, beta_1=param, beta_2=0.999, epsilon=None, decay=0.0, amsgrad=False)\n",
        "    discData.saveParams(optType='adam', opt=optimiser.get_config())\n",
        "  \n",
        "  # Save config\n",
        "  discData.saveParams(K=K)\n",
        "\n",
        "  # Compile models\n",
        "  disc.compile(optimizer=optimiser, loss='binary_crossentropy')\n",
        "  discData.saveParams(loss=disc.loss)\n",
        "\n",
        "  gan.layers[-1].trainable=False #Lock discriminator\n",
        "  gan.compile(optimizer=optimiser, loss='binary_crossentropy')\n",
        "  ganData.saveParams(loss=gan.loss)\n",
        "\n",
        "  # Create folder where to save model\n",
        "  subDir = rootDir + \"/\" + discData.getId()\n",
        "  !mkdir $subDir\n",
        "\n",
        "  # Epochs\n",
        "  for e in range(epochs):\n",
        "    \n",
        "    print(str(e))\n",
        "    \n",
        "    # Shuffle batches\n",
        "    data.shuffleData()\n",
        "    \n",
        "    # Iterations\n",
        "    for iter in range(data.nBatches):\n",
        "      for k in range(K):\n",
        "        # Get real data\n",
        "        realImages, realLabels = data.getBatch(iter)\n",
        "\n",
        "        # Get noise data for discriminator\n",
        "        noiseInput = getNoise((data.batchSize, noiseVecLength))\n",
        "        fakeImages = gen.predict(noiseInput, batch_size=data.batchSize)\n",
        "        fakeLabels = np.zeros((data.batchSize,))\n",
        "\n",
        "        # Train discriminator\n",
        "        allImages = np.concatenate((realImages, fakeImages))\n",
        "        allLabels = np.concatenate((realLabels, fakeLabels))\n",
        "        histDisc = trainDiscriminator(disc, allImages, allLabels)\n",
        "\n",
        "      # Get noise data for generator\n",
        "      noiseInput = getNoise((data.batchSize, noiseVecLength))\n",
        "      fakeLabels = np.ones((data.batchSize,))\n",
        "\n",
        "      # Train generator\n",
        "      histGan = trainGenerator(gan, noiseInput, fakeLabels)\n",
        "      \n",
        "      if iter%200 == 0:\n",
        "        print(\"Discriminator: {}  Generator: {}\".format(histDisc.history['loss'], histGan.history['loss']))\n",
        "\n",
        "\n",
        "    # Save discriminator\n",
        "    savedDiscName = discData.addEpochCheckpoint(disc, histDisc)\n",
        "    discDataName = discData.getId() + \"_\" + disc.name + \"_data.pkl\"\n",
        "    with open(discDataName, 'wb') as f:\n",
        "      pickle.dump(discData, f)\n",
        "\n",
        "    saveFile(savedDiscName, subDir)\n",
        "    saveFile(discDataName, subDir)\n",
        "\n",
        "    # Save gan\n",
        "    savedGanName = ganData.addEpochCheckpoint(gan, histGan)\n",
        "    ganDataName = ganData.getId() + \"_\" + gan.name + \"_data.pkl\"\n",
        "    with open(ganDataName, 'wb') as f:\n",
        "      pickle.dump(ganData, f)\n",
        "\n",
        "    saveFile(savedGanName, subDir)\n",
        "    saveFile(ganDataName, subDir)\n",
        "    \n",
        "  \n",
        "  \n",
        "pyplot.subplots()\n",
        "pyplot.imshow(np.squeeze(fakeImages[0]))"
      ],
      "execution_count": 0,
      "outputs": []
    },
    {
      "cell_type": "code",
      "metadata": {
        "id": "8UGV2kn9Xstk",
        "colab_type": "code",
        "outputId": "32d324b8-66cd-43da-9520-58fc3eaa3fee",
        "colab": {
          "base_uri": "https://localhost:8080/",
          "height": 34
        }
      },
      "source": [
        "# Redefine models to clear\n",
        "disc = getDiscriminator()\n",
        "\n",
        "# Get generator\n",
        "gen = getGenerator()\n",
        "\n",
        "# Get complete GAN\n",
        "gan = Sequential(name=\"gan\")\n",
        "gan.add(gen)\n",
        "gan.add(disc)\n",
        "\n",
        "#gan.set_weights(keras.models.load_model('./descriptor_61.h5').get_weights())\n",
        "gan.set_weights(keras.models.load_model(tag + \"_gan_15.h5\").get_weights())"
      ],
      "execution_count": 0,
      "outputs": [
        {
          "output_type": "stream",
          "text": [
            "WARNING:tensorflow:Error in loading the saved optimizer state. As a result, your model is starting with a freshly initialized optimizer.\n"
          ],
          "name": "stdout"
        }
      ]
    },
    {
      "cell_type": "code",
      "metadata": {
        "id": "TGVXHnP1dHhB",
        "colab_type": "code",
        "colab": {}
      },
      "source": [
        "noiseVecLength = 100\n",
        "noiseInput = getNoise((noiseVecLength, data.batchSize))\n",
        "fakeImages = gen.predict(noiseInput.T, batch_size=data.batchSize)"
      ],
      "execution_count": 0,
      "outputs": []
    },
    {
      "cell_type": "code",
      "metadata": {
        "id": "DD1D-5iaDkny",
        "colab_type": "code",
        "outputId": "20f2d81e-722d-4d15-b6a2-26eeb0ca55e3",
        "colab": {
          "base_uri": "https://localhost:8080/",
          "height": 323
        }
      },
      "source": [
        "rows = 4\n",
        "cols = 10\n",
        "\n",
        "elems = random.sample(range(len(fakeImages)), rows*cols)\n",
        "\n",
        "for j in range(rows):\n",
        "  for i in range(cols):\n",
        "    # equivalent but more general\n",
        "    pyplot.subplot(rows, cols, j*cols + i + 1)\n",
        "    pyplot.imshow(np.squeeze(fakeImages[elems[j*cols + i]]))"
      ],
      "execution_count": 0,
      "outputs": [
        {
          "output_type": "display_data",
          "data": {
            "image/png": "[encoded data removed]",
            "text/plain": [
              "<Figure size 576x396 with 40 Axes>"
            ]
          },
          "metadata": {
            "tags": []
          }
        }
      ]
    },
    {
      "cell_type": "code",
      "metadata": {
        "id": "6XLWz7rCd3xx",
        "colab_type": "code",
        "colab": {}
      },
      "source": [
        "fakeLabels = np.zeros((data.batchSize,))\n",
        "realImages, realLabels = data.getBatch(1)"
      ],
      "execution_count": 0,
      "outputs": []
    }
  ]
}